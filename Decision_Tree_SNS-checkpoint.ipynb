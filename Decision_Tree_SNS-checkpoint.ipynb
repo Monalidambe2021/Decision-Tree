{
 "cells": [
  {
   "cell_type": "code",
   "execution_count": 1,
   "id": "6e00c74a",
   "metadata": {},
   "outputs": [],
   "source": [
    "import pandas as pd"
   ]
  },
  {
   "cell_type": "markdown",
   "id": "7cc6328f",
   "metadata": {},
   "source": [
    "# Load data"
   ]
  },
  {
   "cell_type": "code",
   "execution_count": 2,
   "id": "93a4fb2b",
   "metadata": {},
   "outputs": [],
   "source": [
    "df= pd.read_csv('../dnyan/Datasets/Social_Network_Ads.csv')"
   ]
  },
  {
   "cell_type": "code",
   "execution_count": 3,
   "id": "2dab2e59",
   "metadata": {},
   "outputs": [
    {
     "data": {
      "text/html": [
       "<div>\n",
       "<style scoped>\n",
       "    .dataframe tbody tr th:only-of-type {\n",
       "        vertical-align: middle;\n",
       "    }\n",
       "\n",
       "    .dataframe tbody tr th {\n",
       "        vertical-align: top;\n",
       "    }\n",
       "\n",
       "    .dataframe thead th {\n",
       "        text-align: right;\n",
       "    }\n",
       "</style>\n",
       "<table border=\"1\" class=\"dataframe\">\n",
       "  <thead>\n",
       "    <tr style=\"text-align: right;\">\n",
       "      <th></th>\n",
       "      <th>User ID</th>\n",
       "      <th>Gender</th>\n",
       "      <th>Age</th>\n",
       "      <th>EstimatedSalary</th>\n",
       "      <th>Purchased</th>\n",
       "    </tr>\n",
       "  </thead>\n",
       "  <tbody>\n",
       "    <tr>\n",
       "      <th>0</th>\n",
       "      <td>15624510</td>\n",
       "      <td>Male</td>\n",
       "      <td>19</td>\n",
       "      <td>19000</td>\n",
       "      <td>0</td>\n",
       "    </tr>\n",
       "    <tr>\n",
       "      <th>1</th>\n",
       "      <td>15810944</td>\n",
       "      <td>Male</td>\n",
       "      <td>35</td>\n",
       "      <td>20000</td>\n",
       "      <td>0</td>\n",
       "    </tr>\n",
       "    <tr>\n",
       "      <th>2</th>\n",
       "      <td>15668575</td>\n",
       "      <td>Female</td>\n",
       "      <td>26</td>\n",
       "      <td>43000</td>\n",
       "      <td>0</td>\n",
       "    </tr>\n",
       "    <tr>\n",
       "      <th>3</th>\n",
       "      <td>15603246</td>\n",
       "      <td>Female</td>\n",
       "      <td>27</td>\n",
       "      <td>57000</td>\n",
       "      <td>0</td>\n",
       "    </tr>\n",
       "    <tr>\n",
       "      <th>4</th>\n",
       "      <td>15804002</td>\n",
       "      <td>Male</td>\n",
       "      <td>19</td>\n",
       "      <td>76000</td>\n",
       "      <td>0</td>\n",
       "    </tr>\n",
       "  </tbody>\n",
       "</table>\n",
       "</div>"
      ],
      "text/plain": [
       "    User ID  Gender  Age  EstimatedSalary  Purchased\n",
       "0  15624510    Male   19            19000          0\n",
       "1  15810944    Male   35            20000          0\n",
       "2  15668575  Female   26            43000          0\n",
       "3  15603246  Female   27            57000          0\n",
       "4  15804002    Male   19            76000          0"
      ]
     },
     "execution_count": 3,
     "metadata": {},
     "output_type": "execute_result"
    }
   ],
   "source": [
    "df.head()"
   ]
  },
  {
   "cell_type": "code",
   "execution_count": 4,
   "id": "d4013706",
   "metadata": {},
   "outputs": [],
   "source": [
    "#Set independent & dependent Variable\n",
    "X=df[['Age','EstimatedSalary']]\n",
    "y=df['Purchased']"
   ]
  },
  {
   "cell_type": "markdown",
   "id": "805bfbf0",
   "metadata": {},
   "source": [
    "# Train test split"
   ]
  },
  {
   "cell_type": "code",
   "execution_count": 5,
   "id": "212ddf11",
   "metadata": {},
   "outputs": [],
   "source": [
    "from sklearn.model_selection import train_test_split\n",
    "X_train,X_test,y_train,y_test=train_test_split(X,y,test_size=0.25,random_state=46)"
   ]
  },
  {
   "cell_type": "markdown",
   "id": "92dd529b",
   "metadata": {},
   "source": [
    "# Decision Tree classifier"
   ]
  },
  {
   "cell_type": "code",
   "execution_count": 7,
   "id": "dbc5158f",
   "metadata": {},
   "outputs": [
    {
     "data": {
      "text/plain": [
       "0.84"
      ]
     },
     "execution_count": 7,
     "metadata": {},
     "output_type": "execute_result"
    }
   ],
   "source": [
    "from sklearn.tree import DecisionTreeClassifier\n",
    "model=DecisionTreeClassifier(random_state=12)\n",
    "model.fit(X_train,y_train)\n",
    "model.score(X_test,y_test)\n"
   ]
  },
  {
   "cell_type": "code",
   "execution_count": 8,
   "id": "cd88f508",
   "metadata": {},
   "outputs": [],
   "source": [
    "y_pre= model.predict(X_test)"
   ]
  },
  {
   "cell_type": "code",
   "execution_count": 10,
   "id": "1b39ab50",
   "metadata": {},
   "outputs": [
    {
     "data": {
      "text/plain": [
       "<matplotlib.collections.PathCollection at 0x2306ac0ea60>"
      ]
     },
     "execution_count": 10,
     "metadata": {},
     "output_type": "execute_result"
    },
    {
     "data": {
      "image/png": "[encoded data removed]",
      "text/plain": [
       "<Figure size 432x288 with 1 Axes>"
      ]
     },
     "metadata": {
      "needs_background": "light"
     },
     "output_type": "display_data"
    }
   ],
   "source": [
    "import matplotlib.pyplot as plt\n",
    "class_0=X_test[y_pre==0]\n",
    "class_1=X_test[y_pre==1]\n",
    "plt.scatter(class_0['Age'],class_0['EstimatedSalary'],c='red')\n",
    "plt.scatter(class_1['Age'],class_1['EstimatedSalary'],c='black')\n"
   ]
  },
  {
   "cell_type": "code",
   "execution_count": 11,
   "id": "4fc59289",
   "metadata": {},
   "outputs": [
    {
     "data": {
      "text/html": [
       "<div>\n",
       "<style scoped>\n",
       "    .dataframe tbody tr th:only-of-type {\n",
       "        vertical-align: middle;\n",
       "    }\n",
       "\n",
       "    .dataframe tbody tr th {\n",
       "        vertical-align: top;\n",
       "    }\n",
       "\n",
       "    .dataframe thead th {\n",
       "        text-align: right;\n",
       "    }\n",
       "</style>\n",
       "<table border=\"1\" class=\"dataframe\">\n",
       "  <thead>\n",
       "    <tr style=\"text-align: right;\">\n",
       "      <th></th>\n",
       "      <th>Age</th>\n",
       "      <th>EstimatedSalary</th>\n",
       "    </tr>\n",
       "  </thead>\n",
       "  <tbody>\n",
       "    <tr>\n",
       "      <th>342</th>\n",
       "      <td>38</td>\n",
       "      <td>65000</td>\n",
       "    </tr>\n",
       "    <tr>\n",
       "      <th>153</th>\n",
       "      <td>36</td>\n",
       "      <td>50000</td>\n",
       "    </tr>\n",
       "    <tr>\n",
       "      <th>81</th>\n",
       "      <td>39</td>\n",
       "      <td>42000</td>\n",
       "    </tr>\n",
       "    <tr>\n",
       "      <th>125</th>\n",
       "      <td>39</td>\n",
       "      <td>61000</td>\n",
       "    </tr>\n",
       "    <tr>\n",
       "      <th>314</th>\n",
       "      <td>39</td>\n",
       "      <td>79000</td>\n",
       "    </tr>\n",
       "    <tr>\n",
       "      <th>...</th>\n",
       "      <td>...</td>\n",
       "      <td>...</td>\n",
       "    </tr>\n",
       "    <tr>\n",
       "      <th>14</th>\n",
       "      <td>18</td>\n",
       "      <td>82000</td>\n",
       "    </tr>\n",
       "    <tr>\n",
       "      <th>300</th>\n",
       "      <td>58</td>\n",
       "      <td>38000</td>\n",
       "    </tr>\n",
       "    <tr>\n",
       "      <th>388</th>\n",
       "      <td>47</td>\n",
       "      <td>34000</td>\n",
       "    </tr>\n",
       "    <tr>\n",
       "      <th>17</th>\n",
       "      <td>45</td>\n",
       "      <td>26000</td>\n",
       "    </tr>\n",
       "    <tr>\n",
       "      <th>202</th>\n",
       "      <td>39</td>\n",
       "      <td>134000</td>\n",
       "    </tr>\n",
       "  </tbody>\n",
       "</table>\n",
       "<p>100 rows × 2 columns</p>\n",
       "</div>"
      ],
      "text/plain": [
       "     Age  EstimatedSalary\n",
       "342   38            65000\n",
       "153   36            50000\n",
       "81    39            42000\n",
       "125   39            61000\n",
       "314   39            79000\n",
       "..   ...              ...\n",
       "14    18            82000\n",
       "300   58            38000\n",
       "388   47            34000\n",
       "17    45            26000\n",
       "202   39           134000\n",
       "\n",
       "[100 rows x 2 columns]"
      ]
     },
     "execution_count": 11,
     "metadata": {},
     "output_type": "execute_result"
    }
   ],
   "source": [
    "X_test"
   ]
  },
  {
   "cell_type": "code",
   "execution_count": 12,
   "id": "b02ca23e",
   "metadata": {},
   "outputs": [],
   "source": [
    "import numpy as np"
   ]
  },
  {
   "cell_type": "code",
   "execution_count": 13,
   "id": "5863af1d",
   "metadata": {},
   "outputs": [
    {
     "data": {
      "text/plain": [
       "array([18.        , 18.42424242, 18.84848485, 19.27272727, 19.6969697 ,\n",
       "       20.12121212, 20.54545455, 20.96969697, 21.39393939, 21.81818182,\n",
       "       22.24242424, 22.66666667, 23.09090909, 23.51515152, 23.93939394,\n",
       "       24.36363636, 24.78787879, 25.21212121, 25.63636364, 26.06060606,\n",
       "       26.48484848, 26.90909091, 27.33333333, 27.75757576, 28.18181818,\n",
       "       28.60606061, 29.03030303, 29.45454545, 29.87878788, 30.3030303 ,\n",
       "       30.72727273, 31.15151515, 31.57575758, 32.        , 32.42424242,\n",
       "       32.84848485, 33.27272727, 33.6969697 , 34.12121212, 34.54545455,\n",
       "       34.96969697, 35.39393939, 35.81818182, 36.24242424, 36.66666667,\n",
       "       37.09090909, 37.51515152, 37.93939394, 38.36363636, 38.78787879,\n",
       "       39.21212121, 39.63636364, 40.06060606, 40.48484848, 40.90909091,\n",
       "       41.33333333, 41.75757576, 42.18181818, 42.60606061, 43.03030303,\n",
       "       43.45454545, 43.87878788, 44.3030303 , 44.72727273, 45.15151515,\n",
       "       45.57575758, 46.        , 46.42424242, 46.84848485, 47.27272727,\n",
       "       47.6969697 , 48.12121212, 48.54545455, 48.96969697, 49.39393939,\n",
       "       49.81818182, 50.24242424, 50.66666667, 51.09090909, 51.51515152,\n",
       "       51.93939394, 52.36363636, 52.78787879, 53.21212121, 53.63636364,\n",
       "       54.06060606, 54.48484848, 54.90909091, 55.33333333, 55.75757576,\n",
       "       56.18181818, 56.60606061, 57.03030303, 57.45454545, 57.87878788,\n",
       "       58.3030303 , 58.72727273, 59.15151515, 59.57575758, 60.        ])"
      ]
     },
     "execution_count": 13,
     "metadata": {},
     "output_type": "execute_result"
    }
   ],
   "source": [
    "row=np.linspace(df['Age'].min(),df['Age'].max(),100)\n",
    "row"
   ]
  },
  {
   "cell_type": "code",
   "execution_count": 14,
   "id": "2efbb8e6",
   "metadata": {},
   "outputs": [
    {
     "data": {
      "text/plain": [
       "array([ 15000.        ,  16363.63636364,  17727.27272727,  19090.90909091,\n",
       "        20454.54545455,  21818.18181818,  23181.81818182,  24545.45454545,\n",
       "        25909.09090909,  27272.72727273,  28636.36363636,  30000.        ,\n",
       "        31363.63636364,  32727.27272727,  34090.90909091,  35454.54545455,\n",
       "        36818.18181818,  38181.81818182,  39545.45454545,  40909.09090909,\n",
       "        42272.72727273,  43636.36363636,  45000.        ,  46363.63636364,\n",
       "        47727.27272727,  49090.90909091,  50454.54545455,  51818.18181818,\n",
       "        53181.81818182,  54545.45454545,  55909.09090909,  57272.72727273,\n",
       "        58636.36363636,  60000.        ,  61363.63636364,  62727.27272727,\n",
       "        64090.90909091,  65454.54545455,  66818.18181818,  68181.81818182,\n",
       "        69545.45454545,  70909.09090909,  72272.72727273,  73636.36363636,\n",
       "        75000.        ,  76363.63636364,  77727.27272727,  79090.90909091,\n",
       "        80454.54545455,  81818.18181818,  83181.81818182,  84545.45454545,\n",
       "        85909.09090909,  87272.72727273,  88636.36363636,  90000.        ,\n",
       "        91363.63636364,  92727.27272727,  94090.90909091,  95454.54545455,\n",
       "        96818.18181818,  98181.81818182,  99545.45454545, 100909.09090909,\n",
       "       102272.72727273, 103636.36363636, 105000.        , 106363.63636364,\n",
       "       107727.27272727, 109090.90909091, 110454.54545455, 111818.18181818,\n",
       "       113181.81818182, 114545.45454545, 115909.09090909, 117272.72727273,\n",
       "       118636.36363636, 120000.        , 121363.63636364, 122727.27272727,\n",
       "       124090.90909091, 125454.54545455, 126818.18181818, 128181.81818182,\n",
       "       129545.45454545, 130909.09090909, 132272.72727273, 133636.36363636,\n",
       "       135000.        , 136363.63636364, 137727.27272727, 139090.90909091,\n",
       "       140454.54545455, 141818.18181818, 143181.81818182, 144545.45454545,\n",
       "       145909.09090909, 147272.72727273, 148636.36363636, 150000.        ])"
      ]
     },
     "execution_count": 14,
     "metadata": {},
     "output_type": "execute_result"
    }
   ],
   "source": [
    "col=np.linspace(df['EstimatedSalary'].min(),df['EstimatedSalary'].max(),100)\n",
    "col"
   ]
  },
  {
   "cell_type": "code",
   "execution_count": 15,
   "id": "dc1499fd",
   "metadata": {},
   "outputs": [
    {
     "data": {
      "text/plain": [
       "array([[1.80000000e+01, 1.50000000e+04],\n",
       "       [1.80000000e+01, 1.63636364e+04],\n",
       "       [1.80000000e+01, 1.77272727e+04],\n",
       "       ...,\n",
       "       [6.00000000e+01, 1.47272727e+05],\n",
       "       [6.00000000e+01, 1.48636364e+05],\n",
       "       [6.00000000e+01, 1.50000000e+05]])"
      ]
     },
     "execution_count": 15,
     "metadata": {},
     "output_type": "execute_result"
    }
   ],
   "source": [
    "D=[]\n",
    "for i in row:\n",
    "    for j in col:\n",
    "        D.append([i,j])\n",
    "D=np.array(D)\n",
    "D"
   ]
  },
  {
   "cell_type": "code",
   "execution_count": 16,
   "id": "2d7aafa3",
   "metadata": {},
   "outputs": [
    {
     "data": {
      "text/plain": [
       "(10000, 2)"
      ]
     },
     "execution_count": 16,
     "metadata": {},
     "output_type": "execute_result"
    }
   ],
   "source": [
    "D.shape"
   ]
  },
  {
   "cell_type": "code",
   "execution_count": 17,
   "id": "0f3b4e1f",
   "metadata": {},
   "outputs": [
    {
     "data": {
      "text/plain": [
       "<matplotlib.collections.PathCollection at 0x2306c7e3e80>"
      ]
     },
     "execution_count": 17,
     "metadata": {},
     "output_type": "execute_result"
    },
    {
     "data": {
      "image/png": "[encoded data removed]",
      "text/plain": [
       "<Figure size 432x288 with 1 Axes>"
      ]
     },
     "metadata": {
      "needs_background": "light"
     },
     "output_type": "display_data"
    }
   ],
   "source": [
    "plt.scatter(D[:,0],D[:,1])"
   ]
  },
  {
   "cell_type": "code",
   "execution_count": 19,
   "id": "36e1d702",
   "metadata": {},
   "outputs": [
    {
     "data": {
      "text/plain": [
       "<matplotlib.collections.PathCollection at 0x2306c763340>"
      ]
     },
     "execution_count": 19,
     "metadata": {},
     "output_type": "execute_result"
    },
    {
     "data": {
      "image/png": "[encoded data removed]",
      "text/plain": [
       "<Figure size 432x288 with 1 Axes>"
      ]
     },
     "metadata": {
      "needs_background": "light"
     },
     "output_type": "display_data"
    }
   ],
   "source": [
    "y_pre= model.predict(D)\n",
    "class_0=D[y_pre==0]\n",
    "class_1=D[y_pre==1]\n",
    "plt.scatter(class_0[:,0],class_0[:,1],c='red')\n",
    "plt.scatter(class_1[:,0],class_1[:,1],c='black')\n"
   ]
  },
  {
   "cell_type": "code",
   "execution_count": null,
   "id": "714f31f8",
   "metadata": {},
   "outputs": [],
   "source": []
  }
 ],
 "metadata": {
  "kernelspec": {
   "display_name": "Python 3",
   "language": "python",
   "name": "python3"
  },
  "language_info": {
   "codemirror_mode": {
    "name": "ipython",
    "version": 3
   },
   "file_extension": ".py",
   "mimetype": "text/x-python",
   "name": "python",
   "nbconvert_exporter": "python",
   "pygments_lexer": "ipython3",
   "version": "3.8.8"
  }
 },
 "nbformat": 4,
 "nbformat_minor": 5
}
